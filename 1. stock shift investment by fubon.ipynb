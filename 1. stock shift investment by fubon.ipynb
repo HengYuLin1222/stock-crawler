{
 "cells": [
  {
   "cell_type": "code",
   "execution_count": 1,
   "id": "ee388d81",
   "metadata": {},
   "outputs": [],
   "source": [
    "from bs4 import BeautifulSoup\n",
    "import requests\n",
    "from lxml import html\n",
    "import pandas as pd"
   ]
  },
  {
   "cell_type": "code",
   "execution_count": 114,
   "id": "54bb3d12",
   "metadata": {},
   "outputs": [],
   "source": [
    "company_info = pd.read_csv ('/Users/linhengyu/Downloads/t187ap03_L.csv')"
   ]
  },
  {
   "cell_type": "code",
   "execution_count": 115,
   "id": "77e8db25",
   "metadata": {},
   "outputs": [],
   "source": [
    "pages = list(company_info[\"公司代號\"])\n",
    "names = list(company_info[\"公司名稱\"])"
   ]
  },
  {
   "cell_type": "code",
   "execution_count": 116,
   "id": "db86bbc8",
   "metadata": {},
   "outputs": [],
   "source": [
    "company = []\n",
    "name = []\n",
    "shift_invest = []"
   ]
  },
  {
   "cell_type": "code",
   "execution_count": 117,
   "id": "7b5dbc13",
   "metadata": {},
   "outputs": [],
   "source": [
    "for i in range(len(pages)):\n",
    "    company.append(pages[i])\n",
    "    name.append(names[i])\n",
    "    url = \"https://fubon-ebrokerdj.fbs.com.tw/z/zc/zcg/zcg_\" + str(pages[i]) + \".djhtm\"\n",
    "    re = requests.get(url)\n",
    "    soup = BeautifulSoup(re.text, \"html.parser\")\n",
    "    t = soup.find_all(\"td\", {\"class\":\"t3t1\"})\n",
    "    total_invest = []\n",
    "    l = list(range(0,len(t),3))\n",
    "    for i in l:\n",
    "        total_invest.append(t[i].text)\n",
    "    shift_invest.append(total_invest)"
   ]
  },
  {
   "cell_type": "code",
   "execution_count": 118,
   "id": "de47e617",
   "metadata": {},
   "outputs": [],
   "source": [
    "df = pd.DataFrame({\"shift_investment\": shift_invest})"
   ]
  },
  {
   "cell_type": "code",
   "execution_count": 119,
   "id": "832156e9",
   "metadata": {},
   "outputs": [],
   "source": [
    "df1 = pd.DataFrame(df['shift_investment'].to_list())"
   ]
  },
  {
   "cell_type": "code",
   "execution_count": 120,
   "id": "0955b059",
   "metadata": {},
   "outputs": [],
   "source": [
    "df2 = pd.DataFrame({\"stock_symbol\": company})"
   ]
  },
  {
   "cell_type": "code",
   "execution_count": 121,
   "id": "f8149897",
   "metadata": {},
   "outputs": [],
   "source": [
    "df3 = pd.DataFrame({\"stock_name\": name})"
   ]
  },
  {
   "cell_type": "code",
   "execution_count": 122,
   "id": "f7f7c4e7",
   "metadata": {},
   "outputs": [],
   "source": [
    "df4 = pd.concat([df3,df2,df1],axis=1)"
   ]
  },
  {
   "cell_type": "code",
   "execution_count": 123,
   "id": "10bd06b7",
   "metadata": {},
   "outputs": [],
   "source": [
    "df4.to_csv('/Users/linhengyu/Documents/Python practice/shift_invest_listed_company.csv', encoding='utf-8',index=False)"
   ]
  },
  {
   "cell_type": "code",
   "execution_count": 124,
   "id": "1452bd51",
   "metadata": {},
   "outputs": [],
   "source": [
    "df4.to_excel('/Users/linhengyu/Documents/Python practice/shift_invest_listed_company.xlsx', encoding='utf-8',index=False)"
   ]
  },
  {
   "cell_type": "code",
   "execution_count": null,
   "id": "a6a5d40d",
   "metadata": {},
   "outputs": [],
   "source": []
  }
 ],
 "metadata": {
  "kernelspec": {
   "display_name": "Python 3",
   "language": "python",
   "name": "python3"
  },
  "language_info": {
   "codemirror_mode": {
    "name": "ipython",
    "version": 3
   },
   "file_extension": ".py",
   "mimetype": "text/x-python",
   "name": "python",
   "nbconvert_exporter": "python",
   "pygments_lexer": "ipython3",
   "version": "3.8.8"
  }
 },
 "nbformat": 4,
 "nbformat_minor": 5
}
